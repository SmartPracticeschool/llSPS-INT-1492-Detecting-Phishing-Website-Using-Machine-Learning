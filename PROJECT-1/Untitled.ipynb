{
 "cells": [
  {
   "cell_type": "code",
   "execution_count": 5,
   "metadata": {},
   "outputs": [
    {
     "name": "stdout",
     "output_type": "stream",
     "text": [
      "96.29127091813659\n",
      "[1, 1, 1, 1, 1, 1, 1, 1, 1, 1, -1, -1, -1, 1, -1, 0, 1, -1, 0, -1, -1, -1, 1, 1, 1, 1, 1, 1, -1, 1]\n"
     ]
    },
    {
     "data": {
      "text/plain": [
       "'Legitimate URL'"
      ]
     },
     "execution_count": 5,
     "metadata": {},
     "output_type": "execute_result"
    }
   ],
   "source": [
    "import numpy as np\n",
    "import pandas as pd\n",
    "import feature_extraction\n",
    "from sklearn.metrics import accuracy_score\n",
    "\n",
    "def getResult(url):\n",
    "    dataset=pd.read_csv(r\"phishing_dataset.csv\")\n",
    "    dataset.drop(['index'],axis=1,inplace=True)\n",
    "    x=dataset.iloc[: ,0:30].values\n",
    "    y=dataset.iloc[: ,30:31].values\n",
    "    from sklearn.model_selection import train_test_split\n",
    "    x_train,x_test,y_train,y_test=train_test_split(x,y,test_size=0.2,random_state=0)\n",
    "\n",
    "    \n",
    "    from sklearn.tree import DecisionTreeClassifier\n",
    "    classifier=DecisionTreeClassifier(random_state=0)\n",
    "    classifier.fit(x_train,y_train)\n",
    "    decisiontree=classifier.predict(x_test)\n",
    "    #from sklearn.metrics import confusion_matrix\n",
    "    #cm=confusion_matrix(y_test,decisiontree)\n",
    "    #import sklearn.metrics as metrics\n",
    "    #fpr,tpr,threshold=metrics.roc_curve(y_test,decisiontree)\n",
    "    #roc_auc=metrics.auc(fpr,tpr)\n",
    "    accuracy=accuracy_score(decisiontree,y_test)\n",
    "    print(accuracy*100)\n",
    "    \n",
    "    x_new = []\n",
    "    x_input = url\n",
    "    x_new=feature_extraction.generate_data_set(x_input)\n",
    "    x_new = np.array(x_new).reshape(1,-1)\n",
    "    try:\n",
    "        prediction = classifier.predict(x_new)\n",
    "        if prediction == -1:\n",
    "            return \"Phishing URL\"\n",
    "        else:\n",
    "            return \"Legitimate URL\"\n",
    "    except:\n",
    "        return \"Phishing URL\"\n",
    "    import pickle\n",
    "    pickle.dump(classifier,open('result1.pkl','wb'))\n",
    "getResult('amazon.com')"
   ]
  },
  {
   "cell_type": "code",
   "execution_count": null,
   "metadata": {},
   "outputs": [],
   "source": []
  }
 ],
 "metadata": {
  "kernelspec": {
   "display_name": "Python 3",
   "language": "python",
   "name": "python3"
  },
  "language_info": {
   "codemirror_mode": {
    "name": "ipython",
    "version": 3
   },
   "file_extension": ".py",
   "mimetype": "text/x-python",
   "name": "python",
   "nbconvert_exporter": "python",
   "pygments_lexer": "ipython3",
   "version": "3.7.6"
  }
 },
 "nbformat": 4,
 "nbformat_minor": 4
}
